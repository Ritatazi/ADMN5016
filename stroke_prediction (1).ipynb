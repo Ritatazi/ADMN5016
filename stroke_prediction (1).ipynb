{
  "cells": [
    {
      "cell_type": "code",
      "execution_count": 4,
      "id": "df8075c2",
      "metadata": {
        "execution": {
          "iopub.execute_input": "2022-04-13T13:52:10.321320Z",
          "iopub.status.busy": "2022-04-13T13:52:10.320342Z",
          "iopub.status.idle": "2022-04-13T13:52:10.324761Z",
          "shell.execute_reply": "2022-04-13T13:52:10.324106Z",
          "shell.execute_reply.started": "2022-04-13T13:51:33.295530Z"
        },
        "papermill": {
          "duration": 0.050525,
          "end_time": "2022-04-13T13:52:10.324960",
          "exception": false,
          "start_time": "2022-04-13T13:52:10.274435",
          "status": "completed"
        },
        "tags": [],
        "id": "df8075c2"
      },
      "outputs": [],
      "source": [
        "import numpy as np \n",
        "import pandas as pd "
      ]
    },
    {
      "cell_type": "code",
      "execution_count": 5,
      "id": "41999bbf",
      "metadata": {
        "execution": {
          "iopub.execute_input": "2022-04-13T13:52:10.400389Z",
          "iopub.status.busy": "2022-04-13T13:52:10.399700Z",
          "iopub.status.idle": "2022-04-13T13:52:10.437320Z",
          "shell.execute_reply": "2022-04-13T13:52:10.437910Z",
          "shell.execute_reply.started": "2022-04-13T13:51:33.335408Z"
        },
        "papermill": {
          "duration": 0.077869,
          "end_time": "2022-04-13T13:52:10.438086",
          "exception": false,
          "start_time": "2022-04-13T13:52:10.360217",
          "status": "completed"
        },
        "tags": [],
        "id": "41999bbf"
      },
      "outputs": [],
      "source": [
        "stro=pd.read_csv(\"/content/healthcare-dataset-stroke-data.csv\")\n",
        "\n",
        "\n",
        "stro. drop('bmi', axis=1, inplace=True)\n"
      ]
    },
    {
      "cell_type": "code",
      "execution_count": 6,
      "id": "2fd0c48a",
      "metadata": {
        "execution": {
          "iopub.execute_input": "2022-04-13T13:52:10.512559Z",
          "iopub.status.busy": "2022-04-13T13:52:10.511513Z",
          "iopub.status.idle": "2022-04-13T13:52:10.534355Z",
          "shell.execute_reply": "2022-04-13T13:52:10.534873Z",
          "shell.execute_reply.started": "2022-04-13T13:51:33.369012Z"
        },
        "papermill": {
          "duration": 0.061398,
          "end_time": "2022-04-13T13:52:10.535043",
          "exception": false,
          "start_time": "2022-04-13T13:52:10.473645",
          "status": "completed"
        },
        "tags": [],
        "colab": {
          "base_uri": "https://localhost:8080/",
          "height": 305
        },
        "id": "2fd0c48a",
        "outputId": "62353b71-cb82-49cf-9487-662c047c631d"
      },
      "outputs": [
        {
          "output_type": "execute_result",
          "data": {
            "text/plain": [
              "      id  gender   age  hypertension  heart_disease ever_married  \\\n",
              "0   9046    Male  67.0             0              1          Yes   \n",
              "1  51676  Female  61.0             0              0          Yes   \n",
              "2  31112    Male  80.0             0              1          Yes   \n",
              "3  60182  Female  49.0             0              0          Yes   \n",
              "4   1665  Female  79.0             1              0          Yes   \n",
              "\n",
              "       work_type Residence_type  avg_glucose_level   smoking_status  stroke  \n",
              "0        Private          Urban             228.69  formerly smoked       1  \n",
              "1  Self-employed          Rural             202.21     never smoked       1  \n",
              "2        Private          Rural             105.92     never smoked       1  \n",
              "3        Private          Urban             171.23           smokes       1  \n",
              "4  Self-employed          Rural             174.12     never smoked       1  "
            ],
            "text/html": [
              "\n",
              "  <div id=\"df-178df58f-7c35-44d9-bb82-a676c6909bae\">\n",
              "    <div class=\"colab-df-container\">\n",
              "      <div>\n",
              "<style scoped>\n",
              "    .dataframe tbody tr th:only-of-type {\n",
              "        vertical-align: middle;\n",
              "    }\n",
              "\n",
              "    .dataframe tbody tr th {\n",
              "        vertical-align: top;\n",
              "    }\n",
              "\n",
              "    .dataframe thead th {\n",
              "        text-align: right;\n",
              "    }\n",
              "</style>\n",
              "<table border=\"1\" class=\"dataframe\">\n",
              "  <thead>\n",
              "    <tr style=\"text-align: right;\">\n",
              "      <th></th>\n",
              "      <th>id</th>\n",
              "      <th>gender</th>\n",
              "      <th>age</th>\n",
              "      <th>hypertension</th>\n",
              "      <th>heart_disease</th>\n",
              "      <th>ever_married</th>\n",
              "      <th>work_type</th>\n",
              "      <th>Residence_type</th>\n",
              "      <th>avg_glucose_level</th>\n",
              "      <th>smoking_status</th>\n",
              "      <th>stroke</th>\n",
              "    </tr>\n",
              "  </thead>\n",
              "  <tbody>\n",
              "    <tr>\n",
              "      <th>0</th>\n",
              "      <td>9046</td>\n",
              "      <td>Male</td>\n",
              "      <td>67.0</td>\n",
              "      <td>0</td>\n",
              "      <td>1</td>\n",
              "      <td>Yes</td>\n",
              "      <td>Private</td>\n",
              "      <td>Urban</td>\n",
              "      <td>228.69</td>\n",
              "      <td>formerly smoked</td>\n",
              "      <td>1</td>\n",
              "    </tr>\n",
              "    <tr>\n",
              "      <th>1</th>\n",
              "      <td>51676</td>\n",
              "      <td>Female</td>\n",
              "      <td>61.0</td>\n",
              "      <td>0</td>\n",
              "      <td>0</td>\n",
              "      <td>Yes</td>\n",
              "      <td>Self-employed</td>\n",
              "      <td>Rural</td>\n",
              "      <td>202.21</td>\n",
              "      <td>never smoked</td>\n",
              "      <td>1</td>\n",
              "    </tr>\n",
              "    <tr>\n",
              "      <th>2</th>\n",
              "      <td>31112</td>\n",
              "      <td>Male</td>\n",
              "      <td>80.0</td>\n",
              "      <td>0</td>\n",
              "      <td>1</td>\n",
              "      <td>Yes</td>\n",
              "      <td>Private</td>\n",
              "      <td>Rural</td>\n",
              "      <td>105.92</td>\n",
              "      <td>never smoked</td>\n",
              "      <td>1</td>\n",
              "    </tr>\n",
              "    <tr>\n",
              "      <th>3</th>\n",
              "      <td>60182</td>\n",
              "      <td>Female</td>\n",
              "      <td>49.0</td>\n",
              "      <td>0</td>\n",
              "      <td>0</td>\n",
              "      <td>Yes</td>\n",
              "      <td>Private</td>\n",
              "      <td>Urban</td>\n",
              "      <td>171.23</td>\n",
              "      <td>smokes</td>\n",
              "      <td>1</td>\n",
              "    </tr>\n",
              "    <tr>\n",
              "      <th>4</th>\n",
              "      <td>1665</td>\n",
              "      <td>Female</td>\n",
              "      <td>79.0</td>\n",
              "      <td>1</td>\n",
              "      <td>0</td>\n",
              "      <td>Yes</td>\n",
              "      <td>Self-employed</td>\n",
              "      <td>Rural</td>\n",
              "      <td>174.12</td>\n",
              "      <td>never smoked</td>\n",
              "      <td>1</td>\n",
              "    </tr>\n",
              "  </tbody>\n",
              "</table>\n",
              "</div>\n",
              "      <button class=\"colab-df-convert\" onclick=\"convertToInteractive('df-178df58f-7c35-44d9-bb82-a676c6909bae')\"\n",
              "              title=\"Convert this dataframe to an interactive table.\"\n",
              "              style=\"display:none;\">\n",
              "        \n",
              "  <svg xmlns=\"http://www.w3.org/2000/svg\" height=\"24px\"viewBox=\"0 0 24 24\"\n",
              "       width=\"24px\">\n",
              "    <path d=\"M0 0h24v24H0V0z\" fill=\"none\"/>\n",
              "    <path d=\"M18.56 5.44l.94 2.06.94-2.06 2.06-.94-2.06-.94-.94-2.06-.94 2.06-2.06.94zm-11 1L8.5 8.5l.94-2.06 2.06-.94-2.06-.94L8.5 2.5l-.94 2.06-2.06.94zm10 10l.94 2.06.94-2.06 2.06-.94-2.06-.94-.94-2.06-.94 2.06-2.06.94z\"/><path d=\"M17.41 7.96l-1.37-1.37c-.4-.4-.92-.59-1.43-.59-.52 0-1.04.2-1.43.59L10.3 9.45l-7.72 7.72c-.78.78-.78 2.05 0 2.83L4 21.41c.39.39.9.59 1.41.59.51 0 1.02-.2 1.41-.59l7.78-7.78 2.81-2.81c.8-.78.8-2.07 0-2.86zM5.41 20L4 18.59l7.72-7.72 1.47 1.35L5.41 20z\"/>\n",
              "  </svg>\n",
              "      </button>\n",
              "      \n",
              "  <style>\n",
              "    .colab-df-container {\n",
              "      display:flex;\n",
              "      flex-wrap:wrap;\n",
              "      gap: 12px;\n",
              "    }\n",
              "\n",
              "    .colab-df-convert {\n",
              "      background-color: #E8F0FE;\n",
              "      border: none;\n",
              "      border-radius: 50%;\n",
              "      cursor: pointer;\n",
              "      display: none;\n",
              "      fill: #1967D2;\n",
              "      height: 32px;\n",
              "      padding: 0 0 0 0;\n",
              "      width: 32px;\n",
              "    }\n",
              "\n",
              "    .colab-df-convert:hover {\n",
              "      background-color: #E2EBFA;\n",
              "      box-shadow: 0px 1px 2px rgba(60, 64, 67, 0.3), 0px 1px 3px 1px rgba(60, 64, 67, 0.15);\n",
              "      fill: #174EA6;\n",
              "    }\n",
              "\n",
              "    [theme=dark] .colab-df-convert {\n",
              "      background-color: #3B4455;\n",
              "      fill: #D2E3FC;\n",
              "    }\n",
              "\n",
              "    [theme=dark] .colab-df-convert:hover {\n",
              "      background-color: #434B5C;\n",
              "      box-shadow: 0px 1px 3px 1px rgba(0, 0, 0, 0.15);\n",
              "      filter: drop-shadow(0px 1px 2px rgba(0, 0, 0, 0.3));\n",
              "      fill: #FFFFFF;\n",
              "    }\n",
              "  </style>\n",
              "\n",
              "      <script>\n",
              "        const buttonEl =\n",
              "          document.querySelector('#df-178df58f-7c35-44d9-bb82-a676c6909bae button.colab-df-convert');\n",
              "        buttonEl.style.display =\n",
              "          google.colab.kernel.accessAllowed ? 'block' : 'none';\n",
              "\n",
              "        async function convertToInteractive(key) {\n",
              "          const element = document.querySelector('#df-178df58f-7c35-44d9-bb82-a676c6909bae');\n",
              "          const dataTable =\n",
              "            await google.colab.kernel.invokeFunction('convertToInteractive',\n",
              "                                                     [key], {});\n",
              "          if (!dataTable) return;\n",
              "\n",
              "          const docLinkHtml = 'Like what you see? Visit the ' +\n",
              "            '<a target=\"_blank\" href=https://colab.research.google.com/notebooks/data_table.ipynb>data table notebook</a>'\n",
              "            + ' to learn more about interactive tables.';\n",
              "          element.innerHTML = '';\n",
              "          dataTable['output_type'] = 'display_data';\n",
              "          await google.colab.output.renderOutput(dataTable, element);\n",
              "          const docLink = document.createElement('div');\n",
              "          docLink.innerHTML = docLinkHtml;\n",
              "          element.appendChild(docLink);\n",
              "        }\n",
              "      </script>\n",
              "    </div>\n",
              "  </div>\n",
              "  "
            ]
          },
          "metadata": {},
          "execution_count": 6
        }
      ],
      "source": [
        "stro.head()"
      ]
    },
    {
      "cell_type": "code",
      "execution_count": 7,
      "id": "a038fbcf",
      "metadata": {
        "execution": {
          "iopub.execute_input": "2022-04-13T13:52:10.609716Z",
          "iopub.status.busy": "2022-04-13T13:52:10.608696Z",
          "iopub.status.idle": "2022-04-13T13:52:10.614913Z",
          "shell.execute_reply": "2022-04-13T13:52:10.614250Z",
          "shell.execute_reply.started": "2022-04-13T13:51:33.395786Z"
        },
        "papermill": {
          "duration": 0.044741,
          "end_time": "2022-04-13T13:52:10.615063",
          "exception": false,
          "start_time": "2022-04-13T13:52:10.570322",
          "status": "completed"
        },
        "tags": [],
        "colab": {
          "base_uri": "https://localhost:8080/"
        },
        "id": "a038fbcf",
        "outputId": "9337de6c-3a3f-4bdc-9ee0-3e9930a2d592"
      },
      "outputs": [
        {
          "output_type": "execute_result",
          "data": {
            "text/plain": [
              "(5110, 11)"
            ]
          },
          "metadata": {},
          "execution_count": 7
        }
      ],
      "source": [
        "stro.shape"
      ]
    },
    {
      "cell_type": "code",
      "execution_count": 8,
      "id": "d35cac23",
      "metadata": {
        "execution": {
          "iopub.execute_input": "2022-04-13T13:52:10.713381Z",
          "iopub.status.busy": "2022-04-13T13:52:10.700724Z",
          "iopub.status.idle": "2022-04-13T13:52:10.717865Z",
          "shell.execute_reply": "2022-04-13T13:52:10.717153Z",
          "shell.execute_reply.started": "2022-04-13T13:51:33.444900Z"
        },
        "papermill": {
          "duration": 0.067104,
          "end_time": "2022-04-13T13:52:10.718023",
          "exception": false,
          "start_time": "2022-04-13T13:52:10.650919",
          "status": "completed"
        },
        "tags": [],
        "colab": {
          "base_uri": "https://localhost:8080/"
        },
        "id": "d35cac23",
        "outputId": "29e9d1ce-cef9-46da-cf97-c493c0e01552"
      },
      "outputs": [
        {
          "output_type": "stream",
          "name": "stdout",
          "text": [
            "<class 'pandas.core.frame.DataFrame'>\n",
            "RangeIndex: 5110 entries, 0 to 5109\n",
            "Data columns (total 11 columns):\n",
            " #   Column             Non-Null Count  Dtype  \n",
            "---  ------             --------------  -----  \n",
            " 0   id                 5110 non-null   int64  \n",
            " 1   gender             5110 non-null   object \n",
            " 2   age                5110 non-null   float64\n",
            " 3   hypertension       5110 non-null   int64  \n",
            " 4   heart_disease      5110 non-null   int64  \n",
            " 5   ever_married       5110 non-null   object \n",
            " 6   work_type          5110 non-null   object \n",
            " 7   Residence_type     5110 non-null   object \n",
            " 8   avg_glucose_level  5110 non-null   float64\n",
            " 9   smoking_status     5110 non-null   object \n",
            " 10  stroke             5110 non-null   int64  \n",
            "dtypes: float64(2), int64(4), object(5)\n",
            "memory usage: 439.3+ KB\n"
          ]
        }
      ],
      "source": [
        "stro.info()"
      ]
    },
    {
      "cell_type": "code",
      "execution_count": 9,
      "id": "d7df6a3f",
      "metadata": {
        "execution": {
          "iopub.execute_input": "2022-04-13T13:52:10.797144Z",
          "iopub.status.busy": "2022-04-13T13:52:10.796407Z",
          "iopub.status.idle": "2022-04-13T13:52:10.807316Z",
          "shell.execute_reply": "2022-04-13T13:52:10.807928Z",
          "shell.execute_reply.started": "2022-04-13T13:51:33.468751Z"
        },
        "papermill": {
          "duration": 0.053486,
          "end_time": "2022-04-13T13:52:10.808107",
          "exception": false,
          "start_time": "2022-04-13T13:52:10.754621",
          "status": "completed"
        },
        "tags": [],
        "colab": {
          "base_uri": "https://localhost:8080/"
        },
        "id": "d7df6a3f",
        "outputId": "abdd0b3b-c46a-4228-fed1-28166fac9c18"
      },
      "outputs": [
        {
          "output_type": "execute_result",
          "data": {
            "text/plain": [
              "id                   0\n",
              "gender               0\n",
              "age                  0\n",
              "hypertension         0\n",
              "heart_disease        0\n",
              "ever_married         0\n",
              "work_type            0\n",
              "Residence_type       0\n",
              "avg_glucose_level    0\n",
              "smoking_status       0\n",
              "stroke               0\n",
              "dtype: int64"
            ]
          },
          "metadata": {},
          "execution_count": 9
        }
      ],
      "source": [
        "stro.isnull().sum()"
      ]
    },
    {
      "cell_type": "code",
      "execution_count": 10,
      "id": "6108ba14",
      "metadata": {
        "execution": {
          "iopub.execute_input": "2022-04-13T13:52:10.889158Z",
          "iopub.status.busy": "2022-04-13T13:52:10.888257Z",
          "iopub.status.idle": "2022-04-13T13:52:10.891758Z",
          "shell.execute_reply": "2022-04-13T13:52:10.892265Z",
          "shell.execute_reply.started": "2022-04-13T13:51:33.489292Z"
        },
        "papermill": {
          "duration": 0.047592,
          "end_time": "2022-04-13T13:52:10.892443",
          "exception": false,
          "start_time": "2022-04-13T13:52:10.844851",
          "status": "completed"
        },
        "tags": [],
        "colab": {
          "base_uri": "https://localhost:8080/"
        },
        "id": "6108ba14",
        "outputId": "84af3ef5-a196-43a2-e845-cad7eb4153a9"
      },
      "outputs": [
        {
          "output_type": "execute_result",
          "data": {
            "text/plain": [
              "id                     int64\n",
              "gender                object\n",
              "age                  float64\n",
              "hypertension           int64\n",
              "heart_disease          int64\n",
              "ever_married          object\n",
              "work_type             object\n",
              "Residence_type        object\n",
              "avg_glucose_level    float64\n",
              "smoking_status        object\n",
              "stroke                 int64\n",
              "dtype: object"
            ]
          },
          "metadata": {},
          "execution_count": 10
        }
      ],
      "source": [
        "stro.dtypes"
      ]
    },
    {
      "cell_type": "code",
      "execution_count": 11,
      "id": "b47580ae",
      "metadata": {
        "execution": {
          "iopub.execute_input": "2022-04-13T13:52:10.975257Z",
          "iopub.status.busy": "2022-04-13T13:52:10.974208Z",
          "iopub.status.idle": "2022-04-13T13:52:11.005117Z",
          "shell.execute_reply": "2022-04-13T13:52:11.005666Z",
          "shell.execute_reply.started": "2022-04-13T13:51:33.539752Z"
        },
        "papermill": {
          "duration": 0.075392,
          "end_time": "2022-04-13T13:52:11.005866",
          "exception": false,
          "start_time": "2022-04-13T13:52:10.930474",
          "status": "completed"
        },
        "tags": [],
        "colab": {
          "base_uri": "https://localhost:8080/",
          "height": 300
        },
        "id": "b47580ae",
        "outputId": "97c16532-9436-4155-ade0-d2f6691dfaea"
      },
      "outputs": [
        {
          "output_type": "execute_result",
          "data": {
            "text/plain": [
              "                 id          age  hypertension  heart_disease  \\\n",
              "count   5110.000000  5110.000000   5110.000000    5110.000000   \n",
              "mean   36517.829354    43.226614      0.097456       0.054012   \n",
              "std    21161.721625    22.612647      0.296607       0.226063   \n",
              "min       67.000000     0.080000      0.000000       0.000000   \n",
              "25%    17741.250000    25.000000      0.000000       0.000000   \n",
              "50%    36932.000000    45.000000      0.000000       0.000000   \n",
              "75%    54682.000000    61.000000      0.000000       0.000000   \n",
              "max    72940.000000    82.000000      1.000000       1.000000   \n",
              "\n",
              "       avg_glucose_level       stroke  \n",
              "count        5110.000000  5110.000000  \n",
              "mean          106.147677     0.048728  \n",
              "std            45.283560     0.215320  \n",
              "min            55.120000     0.000000  \n",
              "25%            77.245000     0.000000  \n",
              "50%            91.885000     0.000000  \n",
              "75%           114.090000     0.000000  \n",
              "max           271.740000     1.000000  "
            ],
            "text/html": [
              "\n",
              "  <div id=\"df-d93f3539-6c8b-463d-9884-6d2a46cc94e8\">\n",
              "    <div class=\"colab-df-container\">\n",
              "      <div>\n",
              "<style scoped>\n",
              "    .dataframe tbody tr th:only-of-type {\n",
              "        vertical-align: middle;\n",
              "    }\n",
              "\n",
              "    .dataframe tbody tr th {\n",
              "        vertical-align: top;\n",
              "    }\n",
              "\n",
              "    .dataframe thead th {\n",
              "        text-align: right;\n",
              "    }\n",
              "</style>\n",
              "<table border=\"1\" class=\"dataframe\">\n",
              "  <thead>\n",
              "    <tr style=\"text-align: right;\">\n",
              "      <th></th>\n",
              "      <th>id</th>\n",
              "      <th>age</th>\n",
              "      <th>hypertension</th>\n",
              "      <th>heart_disease</th>\n",
              "      <th>avg_glucose_level</th>\n",
              "      <th>stroke</th>\n",
              "    </tr>\n",
              "  </thead>\n",
              "  <tbody>\n",
              "    <tr>\n",
              "      <th>count</th>\n",
              "      <td>5110.000000</td>\n",
              "      <td>5110.000000</td>\n",
              "      <td>5110.000000</td>\n",
              "      <td>5110.000000</td>\n",
              "      <td>5110.000000</td>\n",
              "      <td>5110.000000</td>\n",
              "    </tr>\n",
              "    <tr>\n",
              "      <th>mean</th>\n",
              "      <td>36517.829354</td>\n",
              "      <td>43.226614</td>\n",
              "      <td>0.097456</td>\n",
              "      <td>0.054012</td>\n",
              "      <td>106.147677</td>\n",
              "      <td>0.048728</td>\n",
              "    </tr>\n",
              "    <tr>\n",
              "      <th>std</th>\n",
              "      <td>21161.721625</td>\n",
              "      <td>22.612647</td>\n",
              "      <td>0.296607</td>\n",
              "      <td>0.226063</td>\n",
              "      <td>45.283560</td>\n",
              "      <td>0.215320</td>\n",
              "    </tr>\n",
              "    <tr>\n",
              "      <th>min</th>\n",
              "      <td>67.000000</td>\n",
              "      <td>0.080000</td>\n",
              "      <td>0.000000</td>\n",
              "      <td>0.000000</td>\n",
              "      <td>55.120000</td>\n",
              "      <td>0.000000</td>\n",
              "    </tr>\n",
              "    <tr>\n",
              "      <th>25%</th>\n",
              "      <td>17741.250000</td>\n",
              "      <td>25.000000</td>\n",
              "      <td>0.000000</td>\n",
              "      <td>0.000000</td>\n",
              "      <td>77.245000</td>\n",
              "      <td>0.000000</td>\n",
              "    </tr>\n",
              "    <tr>\n",
              "      <th>50%</th>\n",
              "      <td>36932.000000</td>\n",
              "      <td>45.000000</td>\n",
              "      <td>0.000000</td>\n",
              "      <td>0.000000</td>\n",
              "      <td>91.885000</td>\n",
              "      <td>0.000000</td>\n",
              "    </tr>\n",
              "    <tr>\n",
              "      <th>75%</th>\n",
              "      <td>54682.000000</td>\n",
              "      <td>61.000000</td>\n",
              "      <td>0.000000</td>\n",
              "      <td>0.000000</td>\n",
              "      <td>114.090000</td>\n",
              "      <td>0.000000</td>\n",
              "    </tr>\n",
              "    <tr>\n",
              "      <th>max</th>\n",
              "      <td>72940.000000</td>\n",
              "      <td>82.000000</td>\n",
              "      <td>1.000000</td>\n",
              "      <td>1.000000</td>\n",
              "      <td>271.740000</td>\n",
              "      <td>1.000000</td>\n",
              "    </tr>\n",
              "  </tbody>\n",
              "</table>\n",
              "</div>\n",
              "      <button class=\"colab-df-convert\" onclick=\"convertToInteractive('df-d93f3539-6c8b-463d-9884-6d2a46cc94e8')\"\n",
              "              title=\"Convert this dataframe to an interactive table.\"\n",
              "              style=\"display:none;\">\n",
              "        \n",
              "  <svg xmlns=\"http://www.w3.org/2000/svg\" height=\"24px\"viewBox=\"0 0 24 24\"\n",
              "       width=\"24px\">\n",
              "    <path d=\"M0 0h24v24H0V0z\" fill=\"none\"/>\n",
              "    <path d=\"M18.56 5.44l.94 2.06.94-2.06 2.06-.94-2.06-.94-.94-2.06-.94 2.06-2.06.94zm-11 1L8.5 8.5l.94-2.06 2.06-.94-2.06-.94L8.5 2.5l-.94 2.06-2.06.94zm10 10l.94 2.06.94-2.06 2.06-.94-2.06-.94-.94-2.06-.94 2.06-2.06.94z\"/><path d=\"M17.41 7.96l-1.37-1.37c-.4-.4-.92-.59-1.43-.59-.52 0-1.04.2-1.43.59L10.3 9.45l-7.72 7.72c-.78.78-.78 2.05 0 2.83L4 21.41c.39.39.9.59 1.41.59.51 0 1.02-.2 1.41-.59l7.78-7.78 2.81-2.81c.8-.78.8-2.07 0-2.86zM5.41 20L4 18.59l7.72-7.72 1.47 1.35L5.41 20z\"/>\n",
              "  </svg>\n",
              "      </button>\n",
              "      \n",
              "  <style>\n",
              "    .colab-df-container {\n",
              "      display:flex;\n",
              "      flex-wrap:wrap;\n",
              "      gap: 12px;\n",
              "    }\n",
              "\n",
              "    .colab-df-convert {\n",
              "      background-color: #E8F0FE;\n",
              "      border: none;\n",
              "      border-radius: 50%;\n",
              "      cursor: pointer;\n",
              "      display: none;\n",
              "      fill: #1967D2;\n",
              "      height: 32px;\n",
              "      padding: 0 0 0 0;\n",
              "      width: 32px;\n",
              "    }\n",
              "\n",
              "    .colab-df-convert:hover {\n",
              "      background-color: #E2EBFA;\n",
              "      box-shadow: 0px 1px 2px rgba(60, 64, 67, 0.3), 0px 1px 3px 1px rgba(60, 64, 67, 0.15);\n",
              "      fill: #174EA6;\n",
              "    }\n",
              "\n",
              "    [theme=dark] .colab-df-convert {\n",
              "      background-color: #3B4455;\n",
              "      fill: #D2E3FC;\n",
              "    }\n",
              "\n",
              "    [theme=dark] .colab-df-convert:hover {\n",
              "      background-color: #434B5C;\n",
              "      box-shadow: 0px 1px 3px 1px rgba(0, 0, 0, 0.15);\n",
              "      filter: drop-shadow(0px 1px 2px rgba(0, 0, 0, 0.3));\n",
              "      fill: #FFFFFF;\n",
              "    }\n",
              "  </style>\n",
              "\n",
              "      <script>\n",
              "        const buttonEl =\n",
              "          document.querySelector('#df-d93f3539-6c8b-463d-9884-6d2a46cc94e8 button.colab-df-convert');\n",
              "        buttonEl.style.display =\n",
              "          google.colab.kernel.accessAllowed ? 'block' : 'none';\n",
              "\n",
              "        async function convertToInteractive(key) {\n",
              "          const element = document.querySelector('#df-d93f3539-6c8b-463d-9884-6d2a46cc94e8');\n",
              "          const dataTable =\n",
              "            await google.colab.kernel.invokeFunction('convertToInteractive',\n",
              "                                                     [key], {});\n",
              "          if (!dataTable) return;\n",
              "\n",
              "          const docLinkHtml = 'Like what you see? Visit the ' +\n",
              "            '<a target=\"_blank\" href=https://colab.research.google.com/notebooks/data_table.ipynb>data table notebook</a>'\n",
              "            + ' to learn more about interactive tables.';\n",
              "          element.innerHTML = '';\n",
              "          dataTable['output_type'] = 'display_data';\n",
              "          await google.colab.output.renderOutput(dataTable, element);\n",
              "          const docLink = document.createElement('div');\n",
              "          docLink.innerHTML = docLinkHtml;\n",
              "          element.appendChild(docLink);\n",
              "        }\n",
              "      </script>\n",
              "    </div>\n",
              "  </div>\n",
              "  "
            ]
          },
          "metadata": {},
          "execution_count": 11
        }
      ],
      "source": [
        "stro.describe()"
      ]
    },
    {
      "cell_type": "code",
      "execution_count": 12,
      "id": "10cb6e2a",
      "metadata": {
        "execution": {
          "iopub.execute_input": "2022-04-13T13:52:11.086514Z",
          "iopub.status.busy": "2022-04-13T13:52:11.085496Z",
          "iopub.status.idle": "2022-04-13T13:52:12.095051Z",
          "shell.execute_reply": "2022-04-13T13:52:12.094061Z",
          "shell.execute_reply.started": "2022-04-13T13:51:33.583310Z"
        },
        "papermill": {
          "duration": 1.051601,
          "end_time": "2022-04-13T13:52:12.095207",
          "exception": false,
          "start_time": "2022-04-13T13:52:11.043606",
          "status": "completed"
        },
        "tags": [],
        "id": "10cb6e2a"
      },
      "outputs": [],
      "source": [
        "from sklearn.preprocessing import LabelEncoder\n"
      ]
    },
    {
      "cell_type": "code",
      "execution_count": 13,
      "id": "9582e6e0",
      "metadata": {
        "execution": {
          "iopub.execute_input": "2022-04-13T13:52:12.176464Z",
          "iopub.status.busy": "2022-04-13T13:52:12.175737Z",
          "iopub.status.idle": "2022-04-13T13:52:12.184775Z",
          "shell.execute_reply": "2022-04-13T13:52:12.185402Z",
          "shell.execute_reply.started": "2022-04-13T13:51:34.140053Z"
        },
        "papermill": {
          "duration": 0.050082,
          "end_time": "2022-04-13T13:52:12.185580",
          "exception": false,
          "start_time": "2022-04-13T13:52:12.135498",
          "status": "completed"
        },
        "tags": [],
        "colab": {
          "base_uri": "https://localhost:8080/"
        },
        "id": "9582e6e0",
        "outputId": "e49b3c11-4753-47c2-f487-e1515632d0c4"
      },
      "outputs": [
        {
          "output_type": "execute_result",
          "data": {
            "text/plain": [
              "{0: 'Female', 1: 'Male', 2: 'Other'}"
            ]
          },
          "metadata": {},
          "execution_count": 13
        }
      ],
      "source": [
        "encoder = LabelEncoder()\n",
        "stro['gender'] = encoder.fit_transform(stro['gender'])\n",
        "gender = {index : label for index, label in enumerate(encoder.classes_)}\n",
        "gender"
      ]
    },
    {
      "cell_type": "code",
      "execution_count": 14,
      "id": "8a095cdd",
      "metadata": {
        "execution": {
          "iopub.execute_input": "2022-04-13T13:52:12.266281Z",
          "iopub.status.busy": "2022-04-13T13:52:12.265557Z",
          "iopub.status.idle": "2022-04-13T13:52:12.274475Z",
          "shell.execute_reply": "2022-04-13T13:52:12.275020Z",
          "shell.execute_reply.started": "2022-04-13T13:51:34.154274Z"
        },
        "papermill": {
          "duration": 0.05105,
          "end_time": "2022-04-13T13:52:12.275217",
          "exception": false,
          "start_time": "2022-04-13T13:52:12.224167",
          "status": "completed"
        },
        "tags": [],
        "colab": {
          "base_uri": "https://localhost:8080/"
        },
        "id": "8a095cdd",
        "outputId": "bff12272-542a-4257-bb0b-69fc42d7c6e3"
      },
      "outputs": [
        {
          "output_type": "execute_result",
          "data": {
            "text/plain": [
              "{0: 'No', 1: 'Yes'}"
            ]
          },
          "metadata": {},
          "execution_count": 14
        }
      ],
      "source": [
        "stro['ever_married'] = encoder.fit_transform(stro['ever_married'])\n",
        "ever_married = {index : label for index, label in enumerate(encoder.classes_)}\n",
        "ever_married"
      ]
    },
    {
      "cell_type": "code",
      "execution_count": 15,
      "id": "e3cdfeb8",
      "metadata": {
        "execution": {
          "iopub.execute_input": "2022-04-13T13:52:12.355826Z",
          "iopub.status.busy": "2022-04-13T13:52:12.355146Z",
          "iopub.status.idle": "2022-04-13T13:52:12.363508Z",
          "shell.execute_reply": "2022-04-13T13:52:12.364060Z",
          "shell.execute_reply.started": "2022-04-13T13:51:34.173557Z"
        },
        "papermill": {
          "duration": 0.050172,
          "end_time": "2022-04-13T13:52:12.364240",
          "exception": false,
          "start_time": "2022-04-13T13:52:12.314068",
          "status": "completed"
        },
        "tags": [],
        "colab": {
          "base_uri": "https://localhost:8080/"
        },
        "id": "e3cdfeb8",
        "outputId": "d087301d-3fd6-4085-9473-379672d90368"
      },
      "outputs": [
        {
          "output_type": "execute_result",
          "data": {
            "text/plain": [
              "{0: 'Govt_job',\n",
              " 1: 'Never_worked',\n",
              " 2: 'Private',\n",
              " 3: 'Self-employed',\n",
              " 4: 'children'}"
            ]
          },
          "metadata": {},
          "execution_count": 15
        }
      ],
      "source": [
        "stro['work_type'] = encoder.fit_transform(stro['work_type'])\n",
        "work_type = {index : label for index, label in enumerate(encoder.classes_)}\n",
        "work_type"
      ]
    },
    {
      "cell_type": "code",
      "execution_count": 16,
      "id": "c24564b7",
      "metadata": {
        "execution": {
          "iopub.execute_input": "2022-04-13T13:52:12.445868Z",
          "iopub.status.busy": "2022-04-13T13:52:12.445191Z",
          "iopub.status.idle": "2022-04-13T13:52:12.453492Z",
          "shell.execute_reply": "2022-04-13T13:52:12.454127Z",
          "shell.execute_reply.started": "2022-04-13T13:51:34.187530Z"
        },
        "papermill": {
          "duration": 0.050575,
          "end_time": "2022-04-13T13:52:12.454301",
          "exception": false,
          "start_time": "2022-04-13T13:52:12.403726",
          "status": "completed"
        },
        "tags": [],
        "colab": {
          "base_uri": "https://localhost:8080/"
        },
        "id": "c24564b7",
        "outputId": "281d68c9-9a89-4101-a68f-2fe11f4cdfeb"
      },
      "outputs": [
        {
          "output_type": "execute_result",
          "data": {
            "text/plain": [
              "{0: 'Rural', 1: 'Urban'}"
            ]
          },
          "metadata": {},
          "execution_count": 16
        }
      ],
      "source": [
        "stro['Residence_type'] = encoder.fit_transform(stro['Residence_type'])\n",
        "Residence_type = {index : label for index, label in enumerate(encoder.classes_)}\n",
        "Residence_type"
      ]
    },
    {
      "cell_type": "code",
      "execution_count": 17,
      "id": "8ce8ae2c",
      "metadata": {
        "execution": {
          "iopub.execute_input": "2022-04-13T13:52:12.541261Z",
          "iopub.status.busy": "2022-04-13T13:52:12.540563Z",
          "iopub.status.idle": "2022-04-13T13:52:12.543134Z",
          "shell.execute_reply": "2022-04-13T13:52:12.543600Z",
          "shell.execute_reply.started": "2022-04-13T13:51:34.201033Z"
        },
        "papermill": {
          "duration": 0.050359,
          "end_time": "2022-04-13T13:52:12.543765",
          "exception": false,
          "start_time": "2022-04-13T13:52:12.493406",
          "status": "completed"
        },
        "tags": [],
        "colab": {
          "base_uri": "https://localhost:8080/"
        },
        "id": "8ce8ae2c",
        "outputId": "2fde0f24-3838-4f3e-e0f5-279b7d2fdc36"
      },
      "outputs": [
        {
          "output_type": "execute_result",
          "data": {
            "text/plain": [
              "{0: 'Unknown', 1: 'formerly smoked', 2: 'never smoked', 3: 'smokes'}"
            ]
          },
          "metadata": {},
          "execution_count": 17
        }
      ],
      "source": [
        "stro['smoking_status'] = encoder.fit_transform(stro['smoking_status'])\n",
        "smoking_status = {index : label for index, label in enumerate(encoder.classes_)}\n",
        "smoking_status"
      ]
    },
    {
      "cell_type": "code",
      "execution_count": 18,
      "id": "686cbac0",
      "metadata": {
        "execution": {
          "iopub.execute_input": "2022-04-13T13:52:12.627410Z",
          "iopub.status.busy": "2022-04-13T13:52:12.626689Z",
          "iopub.status.idle": "2022-04-13T13:52:12.632609Z",
          "shell.execute_reply": "2022-04-13T13:52:12.633181Z",
          "shell.execute_reply.started": "2022-04-13T13:51:34.213086Z"
        },
        "papermill": {
          "duration": 0.048874,
          "end_time": "2022-04-13T13:52:12.633366",
          "exception": false,
          "start_time": "2022-04-13T13:52:12.584492",
          "status": "completed"
        },
        "tags": [],
        "id": "686cbac0"
      },
      "outputs": [],
      "source": [
        "x = stro.drop('stroke', axis=1)\n",
        "y = stro['stroke']"
      ]
    },
    {
      "cell_type": "code",
      "execution_count": 19,
      "id": "0d2fb86b",
      "metadata": {
        "execution": {
          "iopub.execute_input": "2022-04-13T13:52:12.716179Z",
          "iopub.status.busy": "2022-04-13T13:52:12.715508Z",
          "iopub.status.idle": "2022-04-13T13:52:12.890686Z",
          "shell.execute_reply": "2022-04-13T13:52:12.890078Z",
          "shell.execute_reply.started": "2022-04-13T13:51:34.227226Z"
        },
        "papermill": {
          "duration": 0.218187,
          "end_time": "2022-04-13T13:52:12.890853",
          "exception": false,
          "start_time": "2022-04-13T13:52:12.672666",
          "status": "completed"
        },
        "tags": [],
        "id": "0d2fb86b"
      },
      "outputs": [],
      "source": [
        "from sklearn.impute import SimpleImputer\n",
        "import numpy as np"
      ]
    },
    {
      "cell_type": "code",
      "execution_count": 20,
      "id": "8978f10e",
      "metadata": {
        "execution": {
          "iopub.execute_input": "2022-04-13T13:52:12.987216Z",
          "iopub.status.busy": "2022-04-13T13:52:12.986512Z",
          "iopub.status.idle": "2022-04-13T13:52:12.998222Z",
          "shell.execute_reply": "2022-04-13T13:52:12.999212Z",
          "shell.execute_reply.started": "2022-04-13T13:51:34.287228Z"
        },
        "papermill": {
          "duration": 0.068662,
          "end_time": "2022-04-13T13:52:12.999403",
          "exception": false,
          "start_time": "2022-04-13T13:52:12.930741",
          "status": "completed"
        },
        "tags": [],
        "colab": {
          "base_uri": "https://localhost:8080/"
        },
        "id": "8978f10e",
        "outputId": "5d40844a-7726-4011-9e0b-e75afbfa7653"
      },
      "outputs": [
        {
          "output_type": "stream",
          "name": "stdout",
          "text": [
            "X Data is \n",
            " [[9.0460e+03 1.0000e+00 6.7000e+01 0.0000e+00 1.0000e+00 1.0000e+00\n",
            "  2.0000e+00 1.0000e+00 2.2869e+02 1.0000e+00]\n",
            " [5.1676e+04 0.0000e+00 6.1000e+01 0.0000e+00 0.0000e+00 1.0000e+00\n",
            "  3.0000e+00 0.0000e+00 2.0221e+02 2.0000e+00]\n",
            " [3.1112e+04 1.0000e+00 8.0000e+01 0.0000e+00 1.0000e+00 1.0000e+00\n",
            "  2.0000e+00 0.0000e+00 1.0592e+02 2.0000e+00]\n",
            " [6.0182e+04 0.0000e+00 4.9000e+01 0.0000e+00 0.0000e+00 1.0000e+00\n",
            "  2.0000e+00 1.0000e+00 1.7123e+02 3.0000e+00]\n",
            " [1.6650e+03 0.0000e+00 7.9000e+01 1.0000e+00 0.0000e+00 1.0000e+00\n",
            "  3.0000e+00 0.0000e+00 1.7412e+02 2.0000e+00]\n",
            " [5.6669e+04 1.0000e+00 8.1000e+01 0.0000e+00 0.0000e+00 1.0000e+00\n",
            "  2.0000e+00 1.0000e+00 1.8621e+02 1.0000e+00]\n",
            " [5.3882e+04 1.0000e+00 7.4000e+01 1.0000e+00 1.0000e+00 1.0000e+00\n",
            "  2.0000e+00 0.0000e+00 7.0090e+01 2.0000e+00]\n",
            " [1.0434e+04 0.0000e+00 6.9000e+01 0.0000e+00 0.0000e+00 0.0000e+00\n",
            "  2.0000e+00 1.0000e+00 9.4390e+01 2.0000e+00]\n",
            " [2.7419e+04 0.0000e+00 5.9000e+01 0.0000e+00 0.0000e+00 1.0000e+00\n",
            "  2.0000e+00 0.0000e+00 7.6150e+01 0.0000e+00]\n",
            " [6.0491e+04 0.0000e+00 7.8000e+01 0.0000e+00 0.0000e+00 1.0000e+00\n",
            "  2.0000e+00 1.0000e+00 5.8570e+01 0.0000e+00]]\n",
            "y Data is \n",
            " 0    1\n",
            "1    1\n",
            "2    1\n",
            "3    1\n",
            "4    1\n",
            "5    1\n",
            "6    1\n",
            "7    1\n",
            "8    1\n",
            "9    1\n",
            "Name: stroke, dtype: int64\n"
          ]
        }
      ],
      "source": [
        "ImputedModule = SimpleImputer(missing_values = np.nan, strategy ='mean')\n",
        "ImputedX = ImputedModule.fit(x)\n",
        "X = ImputedX.transform(x)\n",
        "\n",
        "\n",
        "#X Data\n",
        "print('X Data is \\n' , X[:10])\n",
        "\n",
        "#y Data\n",
        "print('y Data is \\n' , y[:10])"
      ]
    },
    {
      "cell_type": "code",
      "execution_count": 21,
      "id": "319ae503",
      "metadata": {
        "execution": {
          "iopub.execute_input": "2022-04-13T13:52:13.086576Z",
          "iopub.status.busy": "2022-04-13T13:52:13.085853Z",
          "iopub.status.idle": "2022-04-13T13:52:13.088148Z",
          "shell.execute_reply": "2022-04-13T13:52:13.088601Z",
          "shell.execute_reply.started": "2022-04-13T13:51:34.309243Z"
        },
        "papermill": {
          "duration": 0.048454,
          "end_time": "2022-04-13T13:52:13.088772",
          "exception": false,
          "start_time": "2022-04-13T13:52:13.040318",
          "status": "completed"
        },
        "tags": [],
        "id": "319ae503"
      },
      "outputs": [],
      "source": [
        "from sklearn.preprocessing import MinMaxScaler"
      ]
    },
    {
      "cell_type": "code",
      "execution_count": 22,
      "id": "5a231708",
      "metadata": {
        "execution": {
          "iopub.execute_input": "2022-04-13T13:52:13.177123Z",
          "iopub.status.busy": "2022-04-13T13:52:13.176468Z",
          "iopub.status.idle": "2022-04-13T13:52:13.185606Z",
          "shell.execute_reply": "2022-04-13T13:52:13.186240Z",
          "shell.execute_reply.started": "2022-04-13T13:51:34.315032Z"
        },
        "papermill": {
          "duration": 0.056538,
          "end_time": "2022-04-13T13:52:13.186410",
          "exception": false,
          "start_time": "2022-04-13T13:52:13.129872",
          "status": "completed"
        },
        "tags": [],
        "colab": {
          "base_uri": "https://localhost:8080/"
        },
        "id": "5a231708",
        "outputId": "fa319e2c-83ab-4fd8-9acd-683ac32cbbc4"
      },
      "outputs": [
        {
          "output_type": "stream",
          "name": "stdout",
          "text": [
            "x \n",
            " [[0.12321436 0.5        0.81689453 0.         1.         1.\n",
            "  0.5        1.         0.80126489 0.33333333]\n",
            " [0.70820468 0.         0.74365234 0.         0.         1.\n",
            "  0.75       0.         0.67902317 0.66666667]\n",
            " [0.42601512 0.5        0.97558594 0.         1.         1.\n",
            "  0.5        0.         0.23451205 0.66666667]\n",
            " [0.8249283  0.         0.59716797 0.         0.         1.\n",
            "  0.5        1.         0.53600776 1.        ]\n",
            " [0.02192856 0.         0.96337891 1.         0.         1.\n",
            "  0.75       0.         0.54934909 0.66666667]\n",
            " [0.77672115 0.5        0.98779297 0.         0.         1.\n",
            "  0.5        1.         0.60516111 0.33333333]\n",
            " [0.73847653 0.5        0.90234375 1.         1.         1.\n",
            "  0.5        0.         0.06910719 0.66666667]\n",
            " [0.14226119 0.         0.84130859 0.         0.         0.\n",
            "  0.5        1.         0.1812852  0.66666667]\n",
            " [0.37533792 0.         0.71923828 0.         0.         1.\n",
            "  0.5        0.         0.09708245 0.        ]\n",
            " [0.82916855 0.         0.95117188 0.         0.         1.\n",
            "  0.5        1.         0.01592651 0.        ]]\n",
            "y \n",
            " 0    1\n",
            "1    1\n",
            "2    1\n",
            "3    1\n",
            "4    1\n",
            "5    1\n",
            "6    1\n",
            "7    1\n",
            "8    1\n",
            "9    1\n",
            "Name: stroke, dtype: int64\n"
          ]
        }
      ],
      "source": [
        "scaler = MinMaxScaler(copy=True, feature_range=(0, 1))\n",
        "X = scaler.fit_transform(x)\n",
        "\n",
        "#showing data\n",
        "print('x \\n' , X[:10])\n",
        "print('y \\n' , y[:10])"
      ]
    },
    {
      "cell_type": "code",
      "execution_count": 23,
      "id": "11a44a38",
      "metadata": {
        "execution": {
          "iopub.execute_input": "2022-04-13T13:52:13.276760Z",
          "iopub.status.busy": "2022-04-13T13:52:13.271346Z",
          "iopub.status.idle": "2022-04-13T13:52:13.280200Z",
          "shell.execute_reply": "2022-04-13T13:52:13.280735Z",
          "shell.execute_reply.started": "2022-04-13T13:51:34.336669Z"
        },
        "papermill": {
          "duration": 0.053654,
          "end_time": "2022-04-13T13:52:13.280961",
          "exception": false,
          "start_time": "2022-04-13T13:52:13.227307",
          "status": "completed"
        },
        "tags": [],
        "colab": {
          "base_uri": "https://localhost:8080/"
        },
        "id": "11a44a38",
        "outputId": "30445ccf-70a0-43ab-d875-a1340fe85631"
      },
      "outputs": [
        {
          "output_type": "execute_result",
          "data": {
            "text/plain": [
              "id                   0\n",
              "gender               0\n",
              "age                  0\n",
              "hypertension         0\n",
              "heart_disease        0\n",
              "ever_married         0\n",
              "work_type            0\n",
              "Residence_type       0\n",
              "avg_glucose_level    0\n",
              "smoking_status       0\n",
              "stroke               0\n",
              "dtype: int64"
            ]
          },
          "metadata": {},
          "execution_count": 23
        }
      ],
      "source": [
        "stro.isnull().sum()"
      ]
    },
    {
      "cell_type": "code",
      "execution_count": 24,
      "id": "9d77874b",
      "metadata": {
        "execution": {
          "iopub.execute_input": "2022-04-13T13:52:13.373226Z",
          "iopub.status.busy": "2022-04-13T13:52:13.372446Z",
          "iopub.status.idle": "2022-04-13T13:52:13.380053Z",
          "shell.execute_reply": "2022-04-13T13:52:13.380567Z",
          "shell.execute_reply.started": "2022-04-13T13:51:34.350505Z"
        },
        "papermill": {
          "duration": 0.054832,
          "end_time": "2022-04-13T13:52:13.380748",
          "exception": false,
          "start_time": "2022-04-13T13:52:13.325916",
          "status": "completed"
        },
        "tags": [],
        "colab": {
          "base_uri": "https://localhost:8080/"
        },
        "id": "9d77874b",
        "outputId": "21f0495b-7417-4ca9-9526-d3f239cb8d78"
      },
      "outputs": [
        {
          "output_type": "execute_result",
          "data": {
            "text/plain": [
              "id                   0\n",
              "gender               0\n",
              "age                  0\n",
              "hypertension         0\n",
              "heart_disease        0\n",
              "ever_married         0\n",
              "work_type            0\n",
              "Residence_type       0\n",
              "avg_glucose_level    0\n",
              "smoking_status       0\n",
              "stroke               0\n",
              "dtype: int64"
            ]
          },
          "metadata": {},
          "execution_count": 24
        }
      ],
      "source": [
        "stro.isnull().sum()"
      ]
    },
    {
      "cell_type": "code",
      "execution_count": 25,
      "id": "dec60e99",
      "metadata": {
        "execution": {
          "iopub.execute_input": "2022-04-13T13:52:13.473244Z",
          "iopub.status.busy": "2022-04-13T13:52:13.472522Z",
          "iopub.status.idle": "2022-04-13T13:52:13.475857Z",
          "shell.execute_reply": "2022-04-13T13:52:13.476464Z",
          "shell.execute_reply.started": "2022-04-13T13:51:34.362675Z"
        },
        "papermill": {
          "duration": 0.050644,
          "end_time": "2022-04-13T13:52:13.476646",
          "exception": false,
          "start_time": "2022-04-13T13:52:13.426002",
          "status": "completed"
        },
        "tags": [],
        "id": "dec60e99"
      },
      "outputs": [],
      "source": [
        "from sklearn.model_selection import train_test_split"
      ]
    },
    {
      "cell_type": "code",
      "execution_count": 26,
      "id": "5736b215",
      "metadata": {
        "execution": {
          "iopub.execute_input": "2022-04-13T13:52:13.569608Z",
          "iopub.status.busy": "2022-04-13T13:52:13.567427Z",
          "iopub.status.idle": "2022-04-13T13:52:13.574038Z",
          "shell.execute_reply": "2022-04-13T13:52:13.574639Z",
          "shell.execute_reply.started": "2022-04-13T13:51:34.370441Z"
        },
        "papermill": {
          "duration": 0.05326,
          "end_time": "2022-04-13T13:52:13.574844",
          "exception": false,
          "start_time": "2022-04-13T13:52:13.521584",
          "status": "completed"
        },
        "tags": [],
        "id": "5736b215"
      },
      "outputs": [],
      "source": [
        "x_train,x_test,y_train,y_test=train_test_split(x,y,test_size=0.25,random_state=0)"
      ]
    },
    {
      "cell_type": "code",
      "execution_count": 27,
      "id": "1d2df48b",
      "metadata": {
        "execution": {
          "iopub.execute_input": "2022-04-13T13:52:13.669770Z",
          "iopub.status.busy": "2022-04-13T13:52:13.667397Z",
          "iopub.status.idle": "2022-04-13T13:52:13.672318Z",
          "shell.execute_reply": "2022-04-13T13:52:13.672833Z",
          "shell.execute_reply.started": "2022-04-13T13:51:34.384478Z"
        },
        "papermill": {
          "duration": 0.052405,
          "end_time": "2022-04-13T13:52:13.673033",
          "exception": false,
          "start_time": "2022-04-13T13:52:13.620628",
          "status": "completed"
        },
        "tags": [],
        "colab": {
          "base_uri": "https://localhost:8080/"
        },
        "id": "1d2df48b",
        "outputId": "7ad89d2f-ad51-497e-f960-89f0974297f2"
      },
      "outputs": [
        {
          "output_type": "stream",
          "name": "stdout",
          "text": [
            "x_train shape is: (3832, 10)\n"
          ]
        }
      ],
      "source": [
        "print(\"x_train shape is:\",x_train.shape)"
      ]
    },
    {
      "cell_type": "code",
      "execution_count": 28,
      "id": "70dffc78",
      "metadata": {
        "execution": {
          "iopub.execute_input": "2022-04-13T13:52:13.761351Z",
          "iopub.status.busy": "2022-04-13T13:52:13.760590Z",
          "iopub.status.idle": "2022-04-13T13:52:13.766291Z",
          "shell.execute_reply": "2022-04-13T13:52:13.766812Z",
          "shell.execute_reply.started": "2022-04-13T13:51:34.397639Z"
        },
        "papermill": {
          "duration": 0.050753,
          "end_time": "2022-04-13T13:52:13.766992",
          "exception": false,
          "start_time": "2022-04-13T13:52:13.716239",
          "status": "completed"
        },
        "tags": [],
        "colab": {
          "base_uri": "https://localhost:8080/"
        },
        "id": "70dffc78",
        "outputId": "b1e9b495-a324-436f-a018-4e3c43b4e04a"
      },
      "outputs": [
        {
          "output_type": "stream",
          "name": "stdout",
          "text": [
            "x_test shape is: (1278, 10)\n"
          ]
        }
      ],
      "source": [
        "print(\"x_test shape is:\",x_test.shape)"
      ]
    },
    {
      "cell_type": "code",
      "execution_count": 29,
      "id": "58748c11",
      "metadata": {
        "execution": {
          "iopub.execute_input": "2022-04-13T13:52:13.856060Z",
          "iopub.status.busy": "2022-04-13T13:52:13.855373Z",
          "iopub.status.idle": "2022-04-13T13:52:13.858640Z",
          "shell.execute_reply": "2022-04-13T13:52:13.859169Z",
          "shell.execute_reply.started": "2022-04-13T13:51:34.408744Z"
        },
        "papermill": {
          "duration": 0.05033,
          "end_time": "2022-04-13T13:52:13.859336",
          "exception": false,
          "start_time": "2022-04-13T13:52:13.809006",
          "status": "completed"
        },
        "tags": [],
        "colab": {
          "base_uri": "https://localhost:8080/"
        },
        "id": "58748c11",
        "outputId": "f29c1018-ce08-487d-de61-8378bbe01f1f"
      },
      "outputs": [
        {
          "output_type": "stream",
          "name": "stdout",
          "text": [
            "y_train shape is: (3832,)\n"
          ]
        }
      ],
      "source": [
        "print(\"y_train shape is:\",y_train.shape)"
      ]
    },
    {
      "cell_type": "code",
      "execution_count": 30,
      "id": "a74e5a67",
      "metadata": {
        "execution": {
          "iopub.execute_input": "2022-04-13T13:52:13.947086Z",
          "iopub.status.busy": "2022-04-13T13:52:13.946425Z",
          "iopub.status.idle": "2022-04-13T13:52:13.951092Z",
          "shell.execute_reply": "2022-04-13T13:52:13.951627Z",
          "shell.execute_reply.started": "2022-04-13T13:51:34.419856Z"
        },
        "papermill": {
          "duration": 0.050409,
          "end_time": "2022-04-13T13:52:13.951813",
          "exception": false,
          "start_time": "2022-04-13T13:52:13.901404",
          "status": "completed"
        },
        "tags": [],
        "colab": {
          "base_uri": "https://localhost:8080/"
        },
        "id": "a74e5a67",
        "outputId": "42379b30-fc9f-4d35-b1ec-bc9e722f9a46"
      },
      "outputs": [
        {
          "output_type": "stream",
          "name": "stdout",
          "text": [
            "y_test shape is: (1278,)\n"
          ]
        }
      ],
      "source": [
        "print(\"y_test shape is:\",y_test.shape)"
      ]
    },
    {
      "cell_type": "code",
      "execution_count": 31,
      "id": "ed4287b5",
      "metadata": {
        "execution": {
          "iopub.execute_input": "2022-04-13T13:52:14.042378Z",
          "iopub.status.busy": "2022-04-13T13:52:14.041633Z",
          "iopub.status.idle": "2022-04-13T13:52:14.132940Z",
          "shell.execute_reply": "2022-04-13T13:52:14.132264Z",
          "shell.execute_reply.started": "2022-04-13T13:51:34.433525Z"
        },
        "papermill": {
          "duration": 0.138664,
          "end_time": "2022-04-13T13:52:14.133089",
          "exception": false,
          "start_time": "2022-04-13T13:52:13.994425",
          "status": "completed"
        },
        "tags": [],
        "id": "ed4287b5"
      },
      "outputs": [],
      "source": [
        "from sklearn.ensemble import RandomForestClassifier\n"
      ]
    },
    {
      "cell_type": "code",
      "execution_count": 32,
      "id": "b2a6cb89",
      "metadata": {
        "execution": {
          "iopub.execute_input": "2022-04-13T13:52:14.223882Z",
          "iopub.status.busy": "2022-04-13T13:52:14.223161Z",
          "iopub.status.idle": "2022-04-13T13:52:14.739944Z",
          "shell.execute_reply": "2022-04-13T13:52:14.740600Z",
          "shell.execute_reply.started": "2022-04-13T13:51:34.471771Z"
        },
        "papermill": {
          "duration": 0.563235,
          "end_time": "2022-04-13T13:52:14.740808",
          "exception": false,
          "start_time": "2022-04-13T13:52:14.177573",
          "status": "completed"
        },
        "tags": [],
        "colab": {
          "base_uri": "https://localhost:8080/"
        },
        "id": "b2a6cb89",
        "outputId": "101601dd-6e64-4b7c-c9c6-9414bec004dd"
      },
      "outputs": [
        {
          "output_type": "stream",
          "name": "stdout",
          "text": [
            "RandomForestClassifierModel Train Score is :  0.9519832985386222\n",
            "RandomForestClassifierModel Test Score is :  0.9491392801251957\n",
            "RandomForestClassifierModel features importances are :  [0.142858   0.01251376 0.41807824 0.03605833 0.06561893 0.04210783\n",
            " 0.04061351 0.00961344 0.19745019 0.0350878 ]\n",
            "----------------------------------------------------\n",
            "Predicted Value for RandomForestClassifierModel is :  [0 0 0 0 0 0 0 0 0 0]\n",
            "Prediction Probabilities Value for RandomForestClassifierModel is :  [[0.75659906 0.24340094]\n",
            " [0.99798118 0.00201882]\n",
            " [0.95507376 0.04492624]\n",
            " [0.99284076 0.00715924]\n",
            " [0.99765025 0.00234975]\n",
            " [0.9799451  0.0200549 ]\n",
            " [0.96180441 0.03819559]\n",
            " [0.95605642 0.04394358]\n",
            " [0.96244712 0.03755288]\n",
            " [0.77039061 0.22960939]]\n"
          ]
        }
      ],
      "source": [
        "RandomForestClassifierModel = RandomForestClassifier(criterion = 'gini',n_estimators=100,max_depth=5,random_state=21) #criterion can be also : entropy \n",
        "RandomForestClassifierModel.fit(x_train, y_train)\n",
        "\n",
        "#Calculating Details\n",
        "print('RandomForestClassifierModel Train Score is : ' , RandomForestClassifierModel.score(x_train, y_train))\n",
        "print('RandomForestClassifierModel Test Score is : ' , RandomForestClassifierModel.score(x_test, y_test))\n",
        "print('RandomForestClassifierModel features importances are : ' , RandomForestClassifierModel.feature_importances_)\n",
        "print('----------------------------------------------------')\n",
        "\n",
        "#Calculating Prediction\n",
        "y_pred = RandomForestClassifierModel.predict(x_test)\n",
        "y_pred_prob = RandomForestClassifierModel.predict_proba(x_test)\n",
        "print('Predicted Value for RandomForestClassifierModel is : ' , y_pred[:10])\n",
        "print('Prediction Probabilities Value for RandomForestClassifierModel is : ' , y_pred_prob[:10])"
      ]
    },
    {
      "cell_type": "code",
      "source": [
        "RandomForestClassifierModel.get_params()"
      ],
      "metadata": {
        "colab": {
          "base_uri": "https://localhost:8080/"
        },
        "id": "rWz0_dDUtob5",
        "outputId": "5782f9c7-aebf-4eb3-8708-7cd811f03add"
      },
      "id": "rWz0_dDUtob5",
      "execution_count": 33,
      "outputs": [
        {
          "output_type": "execute_result",
          "data": {
            "text/plain": [
              "{'bootstrap': True,\n",
              " 'ccp_alpha': 0.0,\n",
              " 'class_weight': None,\n",
              " 'criterion': 'gini',\n",
              " 'max_depth': 5,\n",
              " 'max_features': 'auto',\n",
              " 'max_leaf_nodes': None,\n",
              " 'max_samples': None,\n",
              " 'min_impurity_decrease': 0.0,\n",
              " 'min_samples_leaf': 1,\n",
              " 'min_samples_split': 2,\n",
              " 'min_weight_fraction_leaf': 0.0,\n",
              " 'n_estimators': 100,\n",
              " 'n_jobs': None,\n",
              " 'oob_score': False,\n",
              " 'random_state': 21,\n",
              " 'verbose': 0,\n",
              " 'warm_start': False}"
            ]
          },
          "metadata": {},
          "execution_count": 33
        }
      ]
    },
    {
      "cell_type": "code",
      "source": [
        "from sklearn.model_selection import GridSearchCV\n"
      ],
      "metadata": {
        "id": "HQmoY45buKpM"
      },
      "id": "HQmoY45buKpM",
      "execution_count": 34,
      "outputs": []
    },
    {
      "cell_type": "code",
      "source": [
        "parameters = {'max_features':[2, 4, 11], 'n_estimators':[50, 100, 150], 'min_samples_split':[2, 3, 4, 5]}\n",
        "rf_search = GridSearchCV(RandomForestClassifierModel, parameters, scoring='neg_mean_squared_error', cv=5)\n",
        "rf_search.fit(x_train, y_train)"
      ],
      "metadata": {
        "colab": {
          "base_uri": "https://localhost:8080/"
        },
        "id": "CFubMVFWtwVD",
        "outputId": "a73e5f6a-b031-40b1-fe67-4ebc6c797ff2"
      },
      "id": "CFubMVFWtwVD",
      "execution_count": 35,
      "outputs": [
        {
          "output_type": "stream",
          "name": "stderr",
          "text": [
            "/usr/local/lib/python3.8/dist-packages/sklearn/model_selection/_validation.py:372: FitFailedWarning: \n",
            "60 fits failed out of a total of 180.\n",
            "The score on these train-test partitions for these parameters will be set to nan.\n",
            "If these failures are not expected, you can try to debug them by setting error_score='raise'.\n",
            "\n",
            "Below are more details about the failures:\n",
            "--------------------------------------------------------------------------------\n",
            "60 fits failed with the following error:\n",
            "Traceback (most recent call last):\n",
            "  File \"/usr/local/lib/python3.8/dist-packages/sklearn/model_selection/_validation.py\", line 680, in _fit_and_score\n",
            "    estimator.fit(X_train, y_train, **fit_params)\n",
            "  File \"/usr/local/lib/python3.8/dist-packages/sklearn/ensemble/_forest.py\", line 450, in fit\n",
            "    trees = Parallel(\n",
            "  File \"/usr/local/lib/python3.8/dist-packages/joblib/parallel.py\", line 1085, in __call__\n",
            "    if self.dispatch_one_batch(iterator):\n",
            "  File \"/usr/local/lib/python3.8/dist-packages/joblib/parallel.py\", line 901, in dispatch_one_batch\n",
            "    self._dispatch(tasks)\n",
            "  File \"/usr/local/lib/python3.8/dist-packages/joblib/parallel.py\", line 819, in _dispatch\n",
            "    job = self._backend.apply_async(batch, callback=cb)\n",
            "  File \"/usr/local/lib/python3.8/dist-packages/joblib/_parallel_backends.py\", line 208, in apply_async\n",
            "    result = ImmediateResult(func)\n",
            "  File \"/usr/local/lib/python3.8/dist-packages/joblib/_parallel_backends.py\", line 597, in __init__\n",
            "    self.results = batch()\n",
            "  File \"/usr/local/lib/python3.8/dist-packages/joblib/parallel.py\", line 288, in __call__\n",
            "    return [func(*args, **kwargs)\n",
            "  File \"/usr/local/lib/python3.8/dist-packages/joblib/parallel.py\", line 288, in <listcomp>\n",
            "    return [func(*args, **kwargs)\n",
            "  File \"/usr/local/lib/python3.8/dist-packages/sklearn/utils/fixes.py\", line 216, in __call__\n",
            "    return self.function(*args, **kwargs)\n",
            "  File \"/usr/local/lib/python3.8/dist-packages/sklearn/ensemble/_forest.py\", line 185, in _parallel_build_trees\n",
            "    tree.fit(X, y, sample_weight=curr_sample_weight, check_input=False)\n",
            "  File \"/usr/local/lib/python3.8/dist-packages/sklearn/tree/_classes.py\", line 937, in fit\n",
            "    super().fit(\n",
            "  File \"/usr/local/lib/python3.8/dist-packages/sklearn/tree/_classes.py\", line 308, in fit\n",
            "    raise ValueError(\"max_features must be in (0, n_features]\")\n",
            "ValueError: max_features must be in (0, n_features]\n",
            "\n",
            "  warnings.warn(some_fits_failed_message, FitFailedWarning)\n",
            "/usr/local/lib/python3.8/dist-packages/sklearn/model_selection/_search.py:969: UserWarning: One or more of the test scores are non-finite: [-0.04801658 -0.04801658 -0.04801658 -0.04801658 -0.04801658 -0.04801658\n",
            " -0.04801658 -0.04801658 -0.04801658 -0.04801658 -0.04801658 -0.04801658\n",
            " -0.04801658 -0.04801658 -0.04801658 -0.04801658 -0.04801658 -0.04801658\n",
            " -0.04801658 -0.04801658 -0.04801658 -0.04801658 -0.04801658 -0.04801658\n",
            "         nan         nan         nan         nan         nan         nan\n",
            "         nan         nan         nan         nan         nan         nan]\n",
            "  warnings.warn(\n"
          ]
        },
        {
          "output_type": "execute_result",
          "data": {
            "text/plain": [
              "GridSearchCV(cv=5,\n",
              "             estimator=RandomForestClassifier(max_depth=5, random_state=21),\n",
              "             param_grid={'max_features': [2, 4, 11],\n",
              "                         'min_samples_split': [2, 3, 4, 5],\n",
              "                         'n_estimators': [50, 100, 150]},\n",
              "             scoring='neg_mean_squared_error')"
            ]
          },
          "metadata": {},
          "execution_count": 35
        }
      ]
    },
    {
      "cell_type": "code",
      "source": [
        "y_pred = rf_search.predict(x_test)"
      ],
      "metadata": {
        "id": "R4eMDsSJufe8"
      },
      "id": "R4eMDsSJufe8",
      "execution_count": 36,
      "outputs": []
    },
    {
      "cell_type": "code",
      "execution_count": 37,
      "id": "5bfab6bd",
      "metadata": {
        "execution": {
          "iopub.execute_input": "2022-04-13T13:52:14.851656Z",
          "iopub.status.busy": "2022-04-13T13:52:14.850334Z",
          "iopub.status.idle": "2022-04-13T13:52:14.856017Z",
          "shell.execute_reply": "2022-04-13T13:52:14.856958Z",
          "shell.execute_reply.started": "2022-04-13T13:51:35.018211Z"
        },
        "papermill": {
          "duration": 0.064692,
          "end_time": "2022-04-13T13:52:14.857221",
          "exception": false,
          "start_time": "2022-04-13T13:52:14.792529",
          "status": "completed"
        },
        "tags": [],
        "id": "5bfab6bd"
      },
      "outputs": [],
      "source": [
        "from sklearn.metrics import accuracy_score\n"
      ]
    },
    {
      "cell_type": "code",
      "execution_count": 38,
      "id": "da9c0de4",
      "metadata": {
        "execution": {
          "iopub.execute_input": "2022-04-13T13:52:14.963440Z",
          "iopub.status.busy": "2022-04-13T13:52:14.962347Z",
          "iopub.status.idle": "2022-04-13T13:52:14.967608Z",
          "shell.execute_reply": "2022-04-13T13:52:14.968265Z",
          "shell.execute_reply.started": "2022-04-13T13:51:35.025177Z"
        },
        "papermill": {
          "duration": 0.059329,
          "end_time": "2022-04-13T13:52:14.968452",
          "exception": false,
          "start_time": "2022-04-13T13:52:14.909123",
          "status": "completed"
        },
        "tags": [],
        "colab": {
          "base_uri": "https://localhost:8080/"
        },
        "id": "da9c0de4",
        "outputId": "412294f0-1a75-450f-c390-9703050639ce"
      },
      "outputs": [
        {
          "output_type": "stream",
          "name": "stdout",
          "text": [
            "Accuracy Score is :  1213\n"
          ]
        }
      ],
      "source": [
        "AccScore = accuracy_score(y_test, y_pred, normalize=False)\n",
        "print('Accuracy Score is : ', AccScore)"
      ]
    },
    {
      "cell_type": "code",
      "execution_count": 39,
      "id": "3f2d0a1b",
      "metadata": {
        "execution": {
          "iopub.execute_input": "2022-04-13T13:52:15.063285Z",
          "iopub.status.busy": "2022-04-13T13:52:15.062135Z",
          "iopub.status.idle": "2022-04-13T13:52:15.069222Z",
          "shell.execute_reply": "2022-04-13T13:52:15.069755Z",
          "shell.execute_reply.started": "2022-04-13T13:51:35.041800Z"
        },
        "papermill": {
          "duration": 0.057079,
          "end_time": "2022-04-13T13:52:15.069970",
          "exception": false,
          "start_time": "2022-04-13T13:52:15.012891",
          "status": "completed"
        },
        "tags": [],
        "colab": {
          "base_uri": "https://localhost:8080/"
        },
        "id": "3f2d0a1b",
        "outputId": "8d6ba255-07d9-4caf-8092-ec4ebd5c6dfd"
      },
      "outputs": [
        {
          "output_type": "stream",
          "name": "stdout",
          "text": [
            "F1 Score is :  0.9491392801251957\n"
          ]
        }
      ],
      "source": [
        "from sklearn.metrics import f1_score\n",
        "#Calculating F1 Score  : 2 * (precision * recall) / (precision + recall)\n",
        "# f1_score(y_true, y_pred, labels=None, pos_label=1, average=’binary’, sample_weight=None)\n",
        "\n",
        "F1Score = f1_score(y_test, y_pred, average='micro') #it can be : binary,macro,weighted,samples\n",
        "print('F1 Score is : ', F1Score)"
      ]
    },
    {
      "cell_type": "code",
      "execution_count": 40,
      "id": "1f0f2b8e",
      "metadata": {
        "execution": {
          "iopub.execute_input": "2022-04-13T13:52:15.192521Z",
          "iopub.status.busy": "2022-04-13T13:52:15.191585Z",
          "iopub.status.idle": "2022-04-13T13:52:15.351632Z",
          "shell.execute_reply": "2022-04-13T13:52:15.350406Z",
          "shell.execute_reply.started": "2022-04-13T13:51:35.054331Z"
        },
        "papermill": {
          "duration": 0.219634,
          "end_time": "2022-04-13T13:52:15.351826",
          "exception": false,
          "start_time": "2022-04-13T13:52:15.132192",
          "status": "completed"
        },
        "tags": [],
        "id": "1f0f2b8e"
      },
      "outputs": [],
      "source": [
        "from sklearn.metrics import confusion_matrix\n",
        "import seaborn as sns\n",
        "import matplotlib.pyplot as plt"
      ]
    },
    {
      "cell_type": "code",
      "execution_count": 41,
      "id": "7418b4fd",
      "metadata": {
        "execution": {
          "iopub.execute_input": "2022-04-13T13:52:15.451527Z",
          "iopub.status.busy": "2022-04-13T13:52:15.450728Z",
          "iopub.status.idle": "2022-04-13T13:52:15.708718Z",
          "shell.execute_reply": "2022-04-13T13:52:15.707638Z",
          "shell.execute_reply.started": "2022-04-13T13:51:35.151614Z"
        },
        "papermill": {
          "duration": 0.309401,
          "end_time": "2022-04-13T13:52:15.708913",
          "exception": false,
          "start_time": "2022-04-13T13:52:15.399512",
          "status": "completed"
        },
        "tags": [],
        "colab": {
          "base_uri": "https://localhost:8080/",
          "height": 319
        },
        "id": "7418b4fd",
        "outputId": "23f3435c-6ed5-4ff0-80e2-adf27f3fe2f7"
      },
      "outputs": [
        {
          "output_type": "stream",
          "name": "stdout",
          "text": [
            "Confusion Matrix is : \n",
            " [[1213    0]\n",
            " [  65    0]]\n"
          ]
        },
        {
          "output_type": "display_data",
          "data": {
            "text/plain": [
              "<Figure size 432x288 with 2 Axes>"
            ],
            "image/png": "[encoded data removed]"
          },
          "metadata": {
            "needs_background": "light"
          }
        }
      ],
      "source": [
        "CM = confusion_matrix(y_test, y_pred)\n",
        "print('Confusion Matrix is : \\n', CM)\n",
        "\n",
        "# drawing confusion matrix\n",
        "sns.heatmap(CM, center = True,annot=True)\n",
        "plt.show()"
      ]
    },
    {
      "cell_type": "code",
      "execution_count": null,
      "id": "31d7a402",
      "metadata": {
        "papermill": {
          "duration": 0.049378,
          "end_time": "2022-04-13T13:52:15.808676",
          "exception": false,
          "start_time": "2022-04-13T13:52:15.759298",
          "status": "completed"
        },
        "tags": [],
        "id": "31d7a402"
      },
      "outputs": [],
      "source": []
    }
  ],
  "metadata": {
    "kernelspec": {
      "display_name": "Python 3",
      "language": "python",
      "name": "python3"
    },
    "language_info": {
      "codemirror_mode": {
        "name": "ipython",
        "version": 3
      },
      "file_extension": ".py",
      "mimetype": "text/x-python",
      "name": "python",
      "nbconvert_exporter": "python",
      "pygments_lexer": "ipython3",
      "version": "3.7.12"
    },
    "papermill": {
      "default_parameters": {},
      "duration": 16.566528,
      "end_time": "2022-04-13T13:52:16.665273",
      "environment_variables": {},
      "exception": null,
      "input_path": "__notebook__.ipynb",
      "output_path": "__notebook__.ipynb",
      "parameters": {},
      "start_time": "2022-04-13T13:52:00.098745",
      "version": "2.3.3"
    },
    "colab": {
      "provenance": []
    }
  },
  "nbformat": 4,
  "nbformat_minor": 5
}